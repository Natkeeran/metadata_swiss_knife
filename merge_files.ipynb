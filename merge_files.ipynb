{
 "cells": [
  {
   "cell_type": "code",
   "execution_count": null,
   "metadata": {
    "collapsed": true
   },
   "outputs": [],
   "source": [
    "import pandas as pd\n",
    "import numpy as np\n",
    "import glob"
   ]
  },
  {
   "cell_type": "code",
   "execution_count": null,
   "metadata": {},
   "outputs": [],
   "source": [
    "# Merge csv files\n",
    "\n",
    "csv_files = glob.glob('data/merge/*.csv')\n",
    "\n",
    "df_list = []\n",
    "for filename in csv_files:\n",
    "    df_list.append(pd.read_csv(filename))\n",
    "    \n",
    "df = pd.concat(df_list, ignore_index=True)    \n",
    "df.to_csv('reports/merged.csv')\n",
    "df.shape"
   ]
  },
  {
   "cell_type": "code",
   "execution_count": null,
   "metadata": {},
   "outputs": [],
   "source": [
    "# Merge Json Files\n",
    "\n",
    "json_files = glob.glob('data/merge/*.json')\n",
    "df_list = []\n",
    "for filename in json_files:\n",
    "    df_list.append(pd.read_json(filename, orient='columns', lines=True))\n",
    "    \n",
    "df = pd.concat(df_list, ignore_index=True)    \n",
    "df = df.sort_values(by=['id'])\n",
    "df.to_csv('reports/merged.csv')\n",
    "df.shape"
   ]
  },
  {
   "cell_type": "code",
   "execution_count": null,
   "metadata": {
    "collapsed": true
   },
   "outputs": [],
   "source": []
  }
 ],
 "metadata": {
  "kernelspec": {
   "display_name": "Python 3",
   "language": "python",
   "name": "python3"
  },
  "language_info": {
   "codemirror_mode": {
    "name": "ipython",
    "version": 3
   },
   "file_extension": ".py",
   "mimetype": "text/x-python",
   "name": "python",
   "nbconvert_exporter": "python",
   "pygments_lexer": "ipython3",
   "version": "3.6.9"
  }
 },
 "nbformat": 4,
 "nbformat_minor": 2
}
