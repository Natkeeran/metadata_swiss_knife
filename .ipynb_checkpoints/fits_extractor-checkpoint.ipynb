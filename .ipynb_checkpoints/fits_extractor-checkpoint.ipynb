{
 "cells": [
  {
   "cell_type": "code",
   "execution_count": null,
   "metadata": {
    "collapsed": true
   },
   "outputs": [],
   "source": [
    "import os\n",
    "from bs4 import BeautifulSoup\n",
    "import xml.etree.ElementTree as ET\n",
    "import numpy as np\n",
    "import pandas as pd\n",
    "import uuid\n",
    "from pathlib import Path\n",
    "import os.path\n",
    "from os import path"
   ]
  },
  {
   "cell_type": "code",
   "execution_count": null,
   "metadata": {
    "collapsed": true
   },
   "outputs": [],
   "source": [
    "def get_modified_date(source_file, exiftool_file_path):\n",
    "\n",
    "    command = \"exiftool -time:all -a -G0:1 -s \" + source_file + \" > \" + exiftool_file_path\n",
    "    os.system(command)\n",
    "\n",
    "    file_modified_date = \"\"\n",
    "    if path.exists(exiftool_file_path) == False:\n",
    "        return file_modified_date\n",
    "    \n",
    "    with open(exiftool_file_path, 'r') as fh:\n",
    "        for line in fh:\n",
    "            line_info = line.split(\":\", 2)\n",
    "            if len(line_info) >= 2:\n",
    "                metadata = line_info[1]\n",
    "                metadata_value = line_info[2]\n",
    "                if \"FileModifyDate\" in metadata: \n",
    "                    file_modified_date = metadata_value\n",
    "                    break\n",
    "    return file_modified_date"
   ]
  },
  {
   "cell_type": "code",
   "execution_count": null,
   "metadata": {
    "collapsed": true
   },
   "outputs": [],
   "source": [
    "folder = \"2003\"\n",
    "folder_path = \"/data/\" + folder\n",
    "fits_sh = \"/home/fits/fits.sh\"\n",
    "metadata_file_output_folder = \"/home/fits_output/\"\n",
    "exiftool_output_folder = \"/home/exiftool_output/\"\n",
    "reports_folder = \"/home/notebooks/reports/\""
   ]
  },
  {
   "cell_type": "code",
   "execution_count": null,
   "metadata": {
    "collapsed": true
   },
   "outputs": [],
   "source": [
    "files = []\n",
    "files_metadata_df = pd.DataFrame()\n",
    "\n",
    "for root,d_names,f_names in os.walk(folder_path):\n",
    "    for f in f_names:\n",
    "        files.append(os.path.join(root, f))\n",
    "        \n",
    "for file in files:\n",
    "    print(\"processing \" + file)\n",
    "    head, file_name = os.path.split(file)\n",
    "    uuid_str = str(uuid.uuid4())\n",
    "    fits_file_name = uuid_str + \".xml\"\n",
    "    exiftool_file_path = exiftool_output_folder + uuid_str + \".txt\"\n",
    "    metadata_file = metadata_file_output_folder + fits_file_name \n",
    "\n",
    "    path_info = file.replace(folder_path + \"/\", \"\")\n",
    "    path_info_list = path_info.split(\"/\")\n",
    "    path_info_list = path_info_list[:-1]\n",
    "    path_info_str = '|'.join(path_info_list)    \n",
    "    path_info_str = folder + \"|\" + path_info_str\n",
    "    \n",
    "    file = file.replace(\"'\", r\"\\'\")\n",
    "    file = file.replace('\"', r'\\\"')\n",
    "    file = file.replace(\"&\", r\"\\&\")\n",
    "    file = file.replace(\"(\", r\"\\(\")\n",
    "    file = file.replace(\")\", r\"\\)\")\n",
    "    file = file.replace(\",\", r\"\\,\")\n",
    "    \n",
    "    command = fits_sh + \" -i \" +  file + \" -o \" + metadata_file\n",
    "    os.system(command)\n",
    "    \n",
    "    file_modify_date = get_modified_date(file, exiftool_file_path)\n",
    "\n",
    "    md5_checksum = \"\"\n",
    "    mime_type = \"\"        \n",
    "    created_date = \"\"\n",
    "    copy_rights = \"\"\n",
    "    software_agent_1 = \"\"\n",
    "    software_agent_2 = \"\"\n",
    "    keywords = \"\"\n",
    "    \n",
    "    if path.exists(metadata_file) == False:\n",
    "        files_metadata_df = files_metadata_df.append({'original_path': file, 'file_name': file_name, 'md5_checksum':md5_checksum, 'mime_type': mime_type, 'path_info': path_info_str, 'created_date': created_date, 'copy_rights': copy_rights, 'software_agent_1': software_agent_1, 'software_agent_2': software_agent_2, 'keywords': keywords, 'fits_file_name': fits_file_name, 'file_modify_date': file_modify_date}, ignore_index=True)\n",
    "        continue\n",
    "\n",
    "    with open(metadata_file) as fp:\n",
    "        file_xml = BeautifulSoup(fp, \"xml\")    \n",
    "        fits_info = file_xml.findAll(\"fits\")[0]\n",
    "        md5_checksum = fits_info.find(\"fileinfo\").find(\"md5checksum\").text.strip()\n",
    "        exiftool_output = fits_info.find(\"tool\", {\"name\" : \"Exiftool\"})\n",
    "\n",
    "        if exiftool_output is not None:\n",
    "            \n",
    "            mime_type_node = exiftool_output.find(\"MIMEType\")\n",
    "            if mime_type_node is not None:\n",
    "                mime_type = mime_type_node.text.strip()\n",
    "                    \n",
    "            created_date_node = exiftool_output.find(\"CreateDate\")\n",
    "            if created_date_node is not None:\n",
    "                created_date = created_date_node.text.strip()\n",
    "\n",
    "            if created_date == \"\":\n",
    "                profile_date_time = exiftool_output.find(\"ProfileDateTime\")\n",
    "                if profile_date_time is not None:\n",
    "                    created_date = profile_date_time.text.strip()\n",
    "                        \n",
    "            copy_right_notice = exiftool_output.find(\"CopyrightNotice\")\n",
    "            if copy_right_notice is not None:\n",
    "                copy_rights = copy_right_notice.text.strip()\n",
    "            \n",
    "            history_software_agent = exiftool_output.find(\"HistorySoftwareAgent\")\n",
    "            if history_software_agent is not None:\n",
    "                software_agent_1 = history_software_agent.text.strip()\n",
    "            \n",
    "            profile_creator = exiftool_output.find(\"ProfileCreator\")\n",
    "            if profile_creator is not None:\n",
    "                software_agent_2 = profile_creator.text.strip()\n",
    "            \n",
    "            keywords_node = exiftool_output.find(\"Keywords\")\n",
    "            if keywords_node is not None:\n",
    "                keywords = keywords_node.text.strip()\n",
    "\n",
    "        files_metadata_df = files_metadata_df.append({'original_path': file, 'file_name': file_name, 'md5_checksum':md5_checksum, 'mime_type': mime_type, 'path_info': path_info_str, 'created_date': created_date, 'copy_rights': copy_rights, 'software_agent_1': software_agent_1, 'software_agent_2': software_agent_2, 'keywords': keywords, 'fits_file_name': fits_file_name, 'file_modify_date': file_modify_date}, ignore_index=True)"
   ]
  },
  {
   "cell_type": "code",
   "execution_count": null,
   "metadata": {
    "collapsed": true
   },
   "outputs": [],
   "source": [
    "files_metadata_df = files_metadata_df[['original_path',\"file_name\",\"md5_checksum\",\"mime_type\", 'path_info', 'created_date', 'file_modify_date', 'keywords', 'copy_rights', 'software_agent_1', 'software_agent_2', 'fits_file_name']]\n",
    "files_metadata_df"
   ]
  },
  {
   "cell_type": "code",
   "execution_count": null,
   "metadata": {
    "collapsed": true
   },
   "outputs": [],
   "source": [
    "files_metadata_df.to_csv(reports_folder + folder + \".csv\")"
   ]
  },
  {
   "cell_type": "code",
   "execution_count": null,
   "metadata": {
    "collapsed": true
   },
   "outputs": [],
   "source": [
    "files_metadata_df"
   ]
  }
 ],
 "metadata": {
  "kernelspec": {
   "display_name": "Python 3",
   "language": "python",
   "name": "python3"
  },
  "language_info": {
   "codemirror_mode": {
    "name": "ipython",
    "version": 3
   },
   "file_extension": ".py",
   "mimetype": "text/x-python",
   "name": "python",
   "nbconvert_exporter": "python",
   "pygments_lexer": "ipython3",
   "version": "3.6.9"
  }
 },
 "nbformat": 4,
 "nbformat_minor": 2
}
